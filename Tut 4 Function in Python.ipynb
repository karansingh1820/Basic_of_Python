{
 "cells": [
  {
   "cell_type": "markdown",
   "id": "686ad908",
   "metadata": {},
   "source": [
    "# Function- It is set of statements that performs some specific action and may or may not return a value/values."
   ]
  },
  {
   "cell_type": "markdown",
   "id": "40caa53f",
   "metadata": {},
   "source": [
    "Module is super set of Functions. It means module contains functions.\n",
    "\n",
    "Modules and functions both divide a big code in smaller piece of code."
   ]
  },
  {
   "cell_type": "markdown",
   "id": "237d19fd",
   "metadata": {},
   "source": [
    "Types of function:\n",
    "\n",
    "    1: Predefined Functions ---> Defintion is predefined.\n",
    "    2: User Defined functions ---> Defined by the user.\n"
   ]
  },
  {
   "cell_type": "code",
   "execution_count": 3,
   "id": "0b1f6501",
   "metadata": {},
   "outputs": [],
   "source": [
    "# # Syntax  of Function\n",
    "\n",
    "# #Definition\n",
    "# def Function_Name(Argument List-optional):\n",
    "#     ______________________________\n",
    "#     ______________________________\n",
    "#     ______________________________\n",
    "#     _______________________________\n",
    "#     return(value)- Optional\n",
    "\n",
    "# #Call\n",
    "# Function_Name(arguments-Optional)\n"
   ]
  },
  {
   "cell_type": "markdown",
   "id": "23f64c1f",
   "metadata": {},
   "source": [
    "Why UDF ?\n",
    "Benefits-\n",
    "1. It divides a large program into sub programs.\n",
    "2. It increase the reusablity.\n",
    "3. Easy to Debug.- error removal would be easy.\n",
    "4. Easy to Test.-  output checking would be easy\n"
   ]
  },
  {
   "cell_type": "code",
   "execution_count": 6,
   "id": "d134a02f",
   "metadata": {},
   "outputs": [
    {
     "name": "stdout",
     "output_type": "stream",
     "text": [
      "Enter num:5\n",
      "120\n",
      "Enter num:8\n",
      "40320\n",
      "Enter num:9\n",
      "362880\n"
     ]
    }
   ],
   "source": [
    "# Function Definition\n",
    "def CalculateFactorial():\n",
    "    num=int(input(\"Enter num:\"))\n",
    "    fact=1\n",
    "    while(num>0):\n",
    "        fact=fact*num\n",
    "        num=num-1\n",
    "    print(fact)\n",
    "\n",
    "    #Function Call\n",
    "CalculateFactorial()\n",
    "CalculateFactorial()\n",
    "CalculateFactorial()\n"
   ]
  },
  {
   "cell_type": "code",
   "execution_count": 1,
   "id": "7f91ea53",
   "metadata": {},
   "outputs": [
    {
     "name": "stdout",
     "output_type": "stream",
     "text": [
      "Enter number1 for addition:45\n",
      "Enter number2 for addition:45\n",
      "The Addition: 90\n",
      "\n",
      "\n",
      "Enter  number1 for Subtraction:45\n",
      "Enter number2 for Subtraction:5\n",
      "The Subtraction: 40\n",
      "\n",
      "\n",
      "Enter  number1 for Multiplication:45\n",
      "Enter  number2 for Multiplication:2\n",
      "The Multiplication: 90\n",
      "\n",
      "\n",
      "Enter  number1 for Division:45\n",
      "Enter  number2 for Division:2\n",
      "The Division: 22.5\n",
      "\n",
      "\n",
      "Enter  number1 for Modulus:45\n",
      "Enter  number2 for Modulus:2\n",
      "The modulus: 1\n"
     ]
    }
   ],
   "source": [
    "# Without UDF  for Arithmetic Operations\n",
    "\n",
    "a=int(input(\"Enter number1 for addition:\"))\n",
    "b=int(input(\"Enter number2 for addition:\"))\n",
    "c=a+b\n",
    "print(\"The Addition:\",c)\n",
    "print(\"\\n\")\n",
    "a=int(input(\"Enter  number1 for Subtraction:\"))\n",
    "b=int(input(\"Enter number2 for Subtraction:\"))\n",
    "c=a-b\n",
    "print(\"The Subtraction:\",c)\n",
    "print(\"\\n\")\n",
    "a=int(input(\"Enter  number1 for Multiplication:\"))\n",
    "b=int(input(\"Enter  number2 for Multiplication:\"))\n",
    "c=a*b\n",
    "print(\"The Multiplication:\",c)\n",
    "print(\"\\n\")\n",
    "a=int(input(\"Enter  number1 for Division:\"))\n",
    "b=int(input(\"Enter  number2 for Division:\"))\n",
    "c=a/b\n",
    "print(\"The Division:\",c)\n",
    "print(\"\\n\")\n",
    "a=int(input(\"Enter  number1 for Modulus:\"))\n",
    "b=int(input(\"Enter  number2 for Modulus:\"))\n",
    "c=a%b\n",
    "print(\"The modulus:\",c)\n"
   ]
  },
  {
   "cell_type": "code",
   "execution_count": 3,
   "id": "ccfa31b5",
   "metadata": {},
   "outputs": [
    {
     "name": "stdout",
     "output_type": "stream",
     "text": [
      "Enter  number1 for Division:45\n",
      "Enter  number2 for Division:2\n",
      "The Division: 22.5\n",
      "Enter  number1 for Modulus:45\n",
      "Enter  number2 for Modulus:2\n",
      "The modulus: 1\n",
      "Enter number1 for addition:45\n",
      "Enter number2 for addition:2\n",
      "The Addition: 47\n",
      "Enter  number1 for Subtraction:45\n",
      "Enter number2 for Subtraction:2\n",
      "The Subtraction: 43\n",
      "Enter  number1 for Multiplication:45\n",
      "Enter  number2 for Multiplication:2\n",
      "The Multiplication: 90\n",
      "Enter  number1 for Division:45\n",
      "Enter  number2 for Division:2\n",
      "The Division: 22.5\n"
     ]
    }
   ],
   "source": [
    "# With UDF  for Arithmetic Operations\n",
    "\n",
    "def Addition(): #Function Definition\n",
    "    a=int(input(\"Enter number1 for addition:\"))\n",
    "    b=int(input(\"Enter number2 for addition:\"))\n",
    "    c=a+b\n",
    "    print(\"The Addition:\",c)\n",
    "def Subtraction():\n",
    "    a=int(input(\"Enter  number1 for Subtraction:\"))\n",
    "    b=int(input(\"Enter number2 for Subtraction:\"))\n",
    "    c=a-b\n",
    "    print(\"The Subtraction:\",c)\n",
    "def Multiplication():\n",
    "    a=int(input(\"Enter  number1 for Multiplication:\"))\n",
    "    b=int(input(\"Enter  number2 for Multiplication:\"))\n",
    "    c=a*b\n",
    "    print(\"The Multiplication:\",c)\n",
    "def Division():\n",
    "    a=int(input(\"Enter  number1 for Division:\"))\n",
    "    b=int(input(\"Enter  number2 for Division:\"))\n",
    "    c=a/b\n",
    "    print(\"The Division:\",c)\n",
    "def Modulus():\n",
    "    a=int(input(\"Enter  number1 for Modulus:\"))\n",
    "    b=int(input(\"Enter  number2 for Modulus:\"))\n",
    "    c=a%b\n",
    "    print(\"The modulus:\",c)\n",
    "    \n",
    "    \n",
    "#**********Main module or Main Function**************\n",
    "Division()                # Calling of Function\n",
    "Modulus()                # Calling of Function\n",
    "Addition()              # Calling of Function\n",
    "Subtraction()          # Calling of Function\n",
    "Multiplication()       # Calling of Function\n",
    "Division()           # Calling of Function-Reusing the the function.\n"
   ]
  },
  {
   "cell_type": "code",
   "execution_count": 4,
   "id": "0320bce5",
   "metadata": {},
   "outputs": [
    {
     "name": "stdout",
     "output_type": "stream",
     "text": [
      "Enter radius of a circle:5\n",
      "The Area of Circle: 78.5\n",
      "The Circuference of circle: 31.400000000000002\n",
      "Enter length :45\n",
      "Enter breadth:5\n",
      "Area of Rectange: 225.0\n",
      "Perimeter of Rectangle: 100.0\n",
      "Enter Base:25\n",
      "Enter Height:45\n",
      "The Area of Triangle: 562.5\n",
      "The Perimeter of Triangle: 121.478150704935\n",
      "Enter Side:45\n",
      "The area of Square: 2025.0\n",
      "The perimeter of Square: 180.0\n"
     ]
    }
   ],
   "source": [
    "# Function for calculating Area and perimeter Of Shapes:\n",
    "\n",
    "def Area_Of_Circle(): #Function Definition\n",
    "    radius=float(input(\"Enter radius of a circle:\"))\n",
    "    area_circle=3.14*radius**2\n",
    "    circum_circle=3.14*2*radius\n",
    "    print(\"The Area of Circle:\",area_circle)\n",
    "    print(\"The Circuference of circle:\",circum_circle)\n",
    "\n",
    "\n",
    "def Area_Of_Square(): #Function Definition\n",
    "    side=float(input(\"Enter Side:\"))\n",
    "    area_square=side**2\n",
    "    peri_square=side*4\t\n",
    "    print(\"The area of Square:\",area_square)\n",
    "    print(\"The perimeter of Square:\", peri_square)\n",
    "\n",
    "def Area_Of_Triangle(): #Function Definition\n",
    "    base=float(input(\"Enter Base:\"))\n",
    "    height=float(input(\"Enter Height:\"))\n",
    "    area_triangle=1/2*(base*height)\n",
    "    hp=((base**2)+(height**2))**.5\n",
    "    peri_triangle=base+height+hp\n",
    "    print(\"The Area of Triangle:\", area_triangle)\n",
    "    print(\"The Perimeter of Triangle:\", peri_triangle)\n",
    "\n",
    "def Area_Of_Rectangle(): #Function Definition\n",
    "    length=float(input(\"Enter length :\"))\n",
    "    breadth=float(input(\"Enter breadth:\"))\n",
    "    area_rectangle=length*breadth\n",
    "    peri_rectangle=2*(length+breadth)\n",
    "    print(\"Area of Rectange:\", area_rectangle)\n",
    "    print(\"Perimeter of Rectangle:\",peri_rectangle)\n",
    "\n",
    "#*****************************Main Module***************************\n",
    "Area_Of_Circle()      # Function Calling\n",
    "Area_Of_Rectangle()   # Function Calling\n",
    "Area_Of_Triangle()\n",
    "Area_Of_Square()\n"
   ]
  },
  {
   "cell_type": "code",
   "execution_count": 10,
   "id": "2b9ba6cf",
   "metadata": {},
   "outputs": [
    {
     "name": "stdout",
     "output_type": "stream",
     "text": [
      "Enter number any digits Number:121\n",
      "The Sum of Digits: 4\n"
     ]
    }
   ],
   "source": [
    "# Sum of Digits with UDF\n",
    "\n",
    "def SumofDigits():     #Function Defintion\n",
    "    sum=0\n",
    "    num=int(input(\"Enter number any digits Number:\"))\n",
    "    \n",
    "    while(num>0):\n",
    "        rem=num%10\n",
    "        sum=sum+rem\n",
    "        num=num//10\n",
    "    print(\"The Sum of Digits:\", sum)\n",
    "#____________Main Module********************\n",
    "SumofDigits()\n"
   ]
  },
  {
   "cell_type": "code",
   "execution_count": 12,
   "id": "319f5002",
   "metadata": {},
   "outputs": [
    {
     "name": "stdout",
     "output_type": "stream",
     "text": [
      "Enter the number:17\n",
      "The number is prime\n"
     ]
    }
   ],
   "source": [
    "# CheckPrime -Using UDF\n",
    "\n",
    "def CheckPrime():\n",
    "    num=int(input(\"Enter the number:\"))\n",
    "    prime=\"Yes\"\n",
    "    for i in range(2,num):\n",
    "        if(num%i==0):\n",
    "            prime=\"No\"\n",
    "            break\n",
    "    if(prime==\"Yes\"):\n",
    "        print(\"The number is prime\");\n",
    "    else:\n",
    "        print(\"The Number is not prime\")\n",
    "#************Main Module********************\n",
    "CheckPrime()\n"
   ]
  },
  {
   "cell_type": "code",
   "execution_count": 14,
   "id": "795fbcf8",
   "metadata": {},
   "outputs": [
    {
     "name": "stdout",
     "output_type": "stream",
     "text": [
      "2 3 5 7 11 13 17 19 23 29 31 37 41 43 47 53 59 61 67 71 73 79 83 89 97 "
     ]
    }
   ],
   "source": [
    "# PrintPrime 1 to 100 -Using UDF \n",
    "\n",
    "def PrintPrime():\n",
    "    for i in range(2,101,1):\n",
    "        prime=True\n",
    "        for j in range(2,i,1):\n",
    "            if(i%j==0):\n",
    "                prime=False\n",
    "                break\n",
    "        if(prime):\n",
    "            print(i, end=\" \")\n",
    "#*************Main Module***************\n",
    "PrintPrime()\n",
    "\n"
   ]
  },
  {
   "cell_type": "markdown",
   "id": "4f95e5b8",
   "metadata": {},
   "source": [
    "# We can write UDF in 4 Ways-\t\t\t\n",
    "\t\t\t\n",
    "1. No Return and No Arguments\t\t\t\n",
    "2. No Return and with Arguments\t\t\t\n",
    "3. Return  and No arguments\t\t\t\n",
    "4. Return and with Arguments.\t\t\t\n"
   ]
  },
  {
   "cell_type": "markdown",
   "id": "5c59f13a",
   "metadata": {},
   "source": [
    "# Type1_ Function No Return and No Arugments-"
   ]
  },
  {
   "cell_type": "code",
   "execution_count": 16,
   "id": "cc023962",
   "metadata": {},
   "outputs": [
    {
     "name": "stdout",
     "output_type": "stream",
     "text": [
      "Enter  number1 for Division:45\n",
      "Enter  number2 for Division:25\n",
      "The Division: 1.8\n",
      "Enter  number1 for addition:25\n",
      "Enter  number2 for addition:25\n",
      "The Addition: 50\n",
      "Enter  number1 for Subtraction:52\n",
      "Enter  number2 for Subtraction:2\n",
      "The Subtraction: 50\n",
      "Enter  number1 for Multiplication:2\n",
      "Enter  number2 for Multiplication:2\n",
      "The Multiplication: 4\n"
     ]
    }
   ],
   "source": [
    "# Example-\n",
    "# Functions with No Return and Without arguments\n",
    "\n",
    "def Addition():#Function Definition- No arguments and No Return\n",
    "    a=int(input(\"Enter  number1 for addition:\"))\n",
    "    b=int(input(\"Enter  number2 for addition:\"))\n",
    "    c=a+b\n",
    "    print(\"The Addition:\",c) \n",
    "def Subtraction(): #Function Definition\n",
    "    a=int(input(\"Enter  number1 for Subtraction:\"))\n",
    "    b=int(input(\"Enter  number2 for Subtraction:\"))\n",
    "    c=a-b\n",
    "    print(\"The Subtraction:\",c)\n",
    "def Multiplication(): #Function Definition\n",
    "    a=int(input(\"Enter  number1 for Multiplication:\"))\n",
    "    b=int(input(\"Enter  number2 for Multiplication:\"))\n",
    "    c=a*b\n",
    "    print(\"The Multiplication:\",c)\n",
    "def Division(): #Function Definition\n",
    "    a=int(input(\"Enter  number1 for Division:\"))\n",
    "    b=int(input(\"Enter  number2 for Division:\"))\n",
    "    c=a/b\n",
    "    print(\"The Division:\",c)\n",
    "\t\n",
    "#______________________Main Modulue_______________________________\n",
    "Division()   #Function Calling without arguments\n",
    "Addition()   #Function Calling without arguments\n",
    "Subtraction()# Function Calling without arguments\n",
    "Multiplication() #Function Calling without arguments\n"
   ]
  },
  {
   "cell_type": "markdown",
   "id": "82ff255c",
   "metadata": {},
   "source": [
    "# Type2_ Function No Return and  with Arugments"
   ]
  },
  {
   "cell_type": "code",
   "execution_count": 17,
   "id": "4a87e4d1",
   "metadata": {},
   "outputs": [
    {
     "name": "stdout",
     "output_type": "stream",
     "text": [
      "Enter  number1 for arithmetic operation:4\n",
      "Enter  number2 for arithmetic operation:2\n",
      "The Division: 2.0\n",
      "The Addition: 6\n",
      "The Subtraction: 2\n",
      "The Multiplication: 8\n"
     ]
    }
   ],
   "source": [
    "# Example1-\n",
    "\n",
    "def Addition(a,b):#Function Definition\n",
    "    c=a+b\n",
    "    print(\"The Addition:\",c) \n",
    "def Subtraction(a,b): #Function Definition\n",
    "    c=a-b\n",
    "    print(\"The Subtraction:\",c)\n",
    "def Multiplication(a,b): #Function Definition\n",
    "    c=a*b\n",
    "    print(\"The Multiplication:\",c)\n",
    "def Division(a,b): #Function Definition- Receiving values\n",
    "    c=a/b\n",
    "    print(\"The Division:\",c)\n",
    "\n",
    "#______________________Main Modulue_______________________________\n",
    "\n",
    "x=int(input(\"Enter  number1 for arithmetic operation:\"))\n",
    "y=int(input(\"Enter  number2 for arithmetic operation:\"))   \n",
    "Division(x,y)        #Function Calling with arugments- Sending values\n",
    "Addition(x,y)        #Function Calling\n",
    "Subtraction(x,y)     #Function Calling\n",
    "Multiplication(x,y)  #Function Calling\n"
   ]
  },
  {
   "cell_type": "code",
   "execution_count": 22,
   "id": "fbf0705a",
   "metadata": {},
   "outputs": [
    {
     "name": "stdout",
     "output_type": "stream",
     "text": [
      "Enter Number1:45\n",
      "Enter Number2:2\n",
      "Enter Number3:5\n",
      "The Value of a= 45\n",
      "The Value of b= 2\n",
      "The Value of c= 5\n",
      "Hello Your sum is : 52\n"
     ]
    }
   ],
   "source": [
    "# Example2-\n",
    "\n",
    "def HelloFunction_DoMyAddition(a,b,c):\n",
    "    d=a+b+c\n",
    "    print(\"The Value of a=\",a)\n",
    "    print(\"The Value of b=\",b)\n",
    "    print(\"The Value of c=\",c)\n",
    "    print(\"Hello Your sum is :\",d)\n",
    "#******************Main Module*********************\n",
    "x=int(input(\"Enter Number1:\"))\n",
    "y=int(input(\"Enter Number2:\"))\n",
    "z=int(input(\"Enter Number3:\"))\n",
    "\n",
    "HelloFunction_DoMyAddition(x,y,z)\n",
    "\n"
   ]
  },
  {
   "cell_type": "markdown",
   "id": "352e2631",
   "metadata": {},
   "source": [
    "# Type3_ Function  Return and  with No Arugments"
   ]
  },
  {
   "cell_type": "code",
   "execution_count": 26,
   "id": "b3961e49",
   "metadata": {},
   "outputs": [
    {
     "name": "stdout",
     "output_type": "stream",
     "text": [
      "Enter  number1 for addition:12\n",
      "Enter  number2 for addition:12\n",
      "The Addition: 24\n",
      "Enter  number1 for Subtraction:12\n",
      "Enter  number2 for Subtraction:2\n",
      "The Subtraction: 10\n",
      "Enter  number1 for Multiplication:12\n",
      "Enter  number2 for Multiplication:2\n",
      "The Multiplication: 24\n",
      "Enter  number1 for Division:12\n",
      "Enter  number2 for Division:6\n",
      "The Division: 2.0\n",
      "Grand Total: 60.0\n"
     ]
    }
   ],
   "source": [
    "# Example1-\n",
    "\n",
    "def Addition():#Function Definition with Return and No Arguments.\n",
    "    a=int(input(\"Enter  number1 for addition:\"))\n",
    "    b=int(input(\"Enter  number2 for addition:\"))\n",
    "    c=a+b\n",
    "    print(\"The Addition:\",c)\n",
    "    return(c)\n",
    "def Subtraction(): #Function Definition\n",
    "    a=int(input(\"Enter  number1 for Subtraction:\"))\n",
    "    b=int(input(\"Enter  number2 for Subtraction:\"))\n",
    "    c=a-b\n",
    "    print(\"The Subtraction:\",c)\n",
    "    return(c)\n",
    "def Multiplication(): #Function Definition\n",
    "    a=int(input(\"Enter  number1 for Multiplication:\"))\n",
    "    b=int(input(\"Enter  number2 for Multiplication:\"))\n",
    "    c=a*b\n",
    "    print(\"The Multiplication:\",c)\n",
    "    return(c)\n",
    "def Division(): #Function Definition\n",
    "    a=int(input(\"Enter  number1 for Division:\"))\n",
    "    b=int(input(\"Enter  number2 for Division:\"))\n",
    "    c=a/b\n",
    "    print(\"The Division:\",c)\n",
    "    return(c)\n",
    "#______________________Main Modulue________________________________\n",
    "d=Division()   #Function Calling\n",
    "a=Addition()   #Function Calling\n",
    "s=Subtraction() #Function Calling\n",
    "m=Multiplication() #Function Calling\n",
    "total=d+a+s+m\n",
    "print(\"The Grand Total:\", total)\n",
    "\n",
    "# You can you this single line also\n",
    "\n",
    "# print(\"Grand Total:\",Addition()+Subtraction()+Multiplication()+Division())\n"
   ]
  },
  {
   "cell_type": "code",
   "execution_count": 27,
   "id": "51636dc1",
   "metadata": {},
   "outputs": [
    {
     "name": "stdout",
     "output_type": "stream",
     "text": [
      "Enter  number1 for Division:12\n",
      "Enter  number2 for Division:3\n",
      "Enter  number1 for addition:12\n",
      "Enter  number2 for addition:3\n",
      "Enter  number1 for Subtraction:12\n",
      "Enter  number2 for Subtraction:3\n",
      "Enter  number1 for Multiplication:12\n",
      "Enter  number2 for Multiplication:12\n",
      "The Addition: 15\n",
      "The Subtraction: 9\n",
      "The Multiplication: 144\n",
      "The Division: 4.0\n",
      "The Grand Total: 172.0\n"
     ]
    }
   ],
   "source": [
    "# Example2-\n",
    "def Addition():#Function Definition\n",
    "    a=int(input(\"Enter  number1 for addition:\"))\n",
    "    b=int(input(\"Enter  number2 for addition:\"))\n",
    "    c=a+b\n",
    "    return(c)\n",
    "def Subtraction(): #Function Definition\n",
    "    a=int(input(\"Enter  number1 for Subtraction:\"))\n",
    "    b=int(input(\"Enter  number2 for Subtraction:\"))\n",
    "    c=a-b\n",
    "    return(c)\n",
    "def Multiplication(): #Function Definition\n",
    "    a=int(input(\"Enter  number1 for Multiplication:\"))\n",
    "    b=int(input(\"Enter  number2 for Multiplication:\"))\n",
    "    c=a*b\n",
    "    return(c)\n",
    "def Division(): #Function Definition\n",
    "    a=int(input(\"Enter  number1 for Division:\"))\n",
    "    b=int(input(\"Enter  number2 for Division:\"))\n",
    "    c=a/b\n",
    "    return(c)\n",
    "#______________________Main Modulue_______________________________\n",
    "d=Division()   #Function Calling\n",
    "a=Addition()   #Function Calling\n",
    "s=Subtraction() #Function Calling\n",
    "m=Multiplication() #Function Calling\n",
    "total=d+a+s+m\n",
    "\n",
    "print(\"The Addition:\",a)\n",
    "print(\"The Subtraction:\",s)\n",
    "print(\"The Multiplication:\",m)\n",
    "print(\"The Division:\",d)\n",
    "print(\"The Grand Total:\", total)\n"
   ]
  },
  {
   "cell_type": "markdown",
   "id": "eef6e6a3",
   "metadata": {},
   "source": [
    "# Example without Return with Global Keyword"
   ]
  },
  {
   "cell_type": "code",
   "execution_count": 24,
   "id": "7e288d04",
   "metadata": {},
   "outputs": [
    {
     "name": "stdout",
     "output_type": "stream",
     "text": [
      "Enter  number1 for Division:12\n",
      "Enter  number2 for Division:6\n",
      "The Division: 2.0\n",
      "Enter  number1 for addition:12\n",
      "Enter  number2 for addition:12\n",
      "The Addition: 24\n",
      "Enter  number1 for Subtraction:12\n",
      "Enter  number2 for Subtraction:12\n",
      "The Subtraction: 0\n",
      "Enter  number1 for Multiplication:12\n",
      "Enter  number2 for Multiplication:2\n",
      "The Multiplication: 24\n",
      "The Grand total: 50.0\n"
     ]
    }
   ],
   "source": [
    "addition=0\n",
    "subtraction=0\n",
    "multiplication=0\n",
    "division=0\n",
    "def Addition():#Function Definition- No arguments and No Return\n",
    "    global addition\n",
    "    a=int(input(\"Enter  number1 for addition:\"))\n",
    "    b=int(input(\"Enter  number2 for addition:\"))\n",
    "    addition=a+b\n",
    "    print(\"The Addition:\",addition)\n",
    "    #return(c)\n",
    "def Subtraction(): #Function Definition\n",
    "    global subtraction\n",
    "    a=int(input(\"Enter  number1 for Subtraction:\"))\n",
    "    b=int(input(\"Enter  number2 for Subtraction:\"))\n",
    "    subtraction=a-b\n",
    "    print(\"The Subtraction:\",subtraction)\n",
    "    #return(c)\n",
    "def Multiplication(): #Function Definition\n",
    "    global multiplication\n",
    "    a=int(input(\"Enter  number1 for Multiplication:\"))\n",
    "    b=int(input(\"Enter  number2 for Multiplication:\"))\n",
    "    multiplication=a*b\n",
    "    print(\"The Multiplication:\",multiplication)\n",
    "    #return(c)\n",
    "def Division(): #Function Definition\n",
    "    global division\n",
    "    a=int(input(\"Enter  number1 for Division:\"))\n",
    "    b=int(input(\"Enter  number2 for Division:\"))\n",
    "    division=a/b\n",
    "    print(\"The Division:\",division)\n",
    "    #return(c)\n",
    "#______________________Main Modulue_______________________________\n",
    "Division()   #Function Calling without arguments\n",
    "Addition()   #Function Calling without arguments\n",
    "Subtraction()# Function Calling without arguments\n",
    "Multiplication() #Function Calling without arguments\n",
    "grandtotal=division+addition+subtraction+multiplication\n",
    "print(\"The Grand total:\", grandtotal)\n"
   ]
  },
  {
   "cell_type": "markdown",
   "id": "2d9bfb82",
   "metadata": {},
   "source": [
    "# Type4_ Function  Return and  with Arugments"
   ]
  },
  {
   "cell_type": "code",
   "execution_count": 29,
   "id": "17d50690",
   "metadata": {},
   "outputs": [
    {
     "name": "stdout",
     "output_type": "stream",
     "text": [
      "Enter  number1 for arithmetic Opeartion:54\n",
      "Enter  number2 for arithmetic Operation:24\n",
      "The Addition: 78\n",
      "The Subtraction: 30\n",
      "The Multiplication: 1296\n",
      "The Division: 2.25\n",
      "The Grand Total: 1406.25\n"
     ]
    }
   ],
   "source": [
    "# Example1-\n",
    "\n",
    "#Function Return Value and with arugments\n",
    "def Addition(a,b):#Function Definition\n",
    "    c=a+b\n",
    "    return(c)\n",
    "def Subtraction(a,b): #Function Definition\n",
    "    c=a-b\n",
    "    return(c)\n",
    "def Multiplication(a,b): #Function Definition\n",
    "    c=a*b\n",
    "    return(c)\n",
    "def Division(a,b): #Function Definition\n",
    "    c=a/b\n",
    "    return(c)\n",
    "#______________________Main Modulue_______________________________\n",
    "x=int(input(\"Enter  number1 for arithmetic Opeartion:\"))\n",
    "y=int(input(\"Enter  number2 for arithmetic Operation:\"))\n",
    "\n",
    "d=Division(x,y)   #Function Calling\n",
    "a=Addition(x,y)   #Function Calling\n",
    "s=Subtraction(x,y) #Function Calling\n",
    "m=Multiplication(x,y) #Function Calling\n",
    "total=d+a+s+m\n",
    "\n",
    "print(\"The Addition:\",a)\n",
    "print(\"The Subtraction:\",s)\n",
    "print(\"The Multiplication:\",m)\n",
    "print(\"The Division:\",d)\n",
    "print(\"The Grand Total:\", total)\n"
   ]
  },
  {
   "cell_type": "markdown",
   "id": "80e2462b",
   "metadata": {},
   "source": [
    "# Function- with Default Arguments"
   ]
  },
  {
   "cell_type": "code",
   "execution_count": 31,
   "id": "127597ba",
   "metadata": {},
   "outputs": [
    {
     "name": "stdout",
     "output_type": "stream",
     "text": [
      "Enter basic Salary:15000\n",
      "How many Rs. you want to increase:10000\n",
      "The Increased Salary: 25000.0\n",
      "Enter another basic Salary:20000\n",
      "How many Rs. you want to increase:350000\n",
      "The Increased Salary: 374000.0\n"
     ]
    }
   ],
   "source": [
    "# Default argument, if you are not supplying value from calling, it will accept defult value.\n",
    "\n",
    "def SalaryIncrement(basic,increment,allowance=0): # Here allowance is default arguments\n",
    "    increasedBasic=basic+increment+allowance\n",
    "    return(increasedBasic)\n",
    "\n",
    "#*******************Main function***********\n",
    "basic_Salary=float(input(\"Enter basic Salary:\"))\n",
    "increment=float(input(\"How many Rs. you want to increase:\"))\n",
    "\n",
    "s=SalaryIncrement(basic_Salary,increment)  # calling a function and get returned value in s variable\n",
    "print(\"The Increased Salary:\",s)\n",
    "\n",
    "basic_Salary=float(input(\"Enter another basic Salary:\"))\n",
    "increment=float(input(\"How many Rs. you want to increase:\"))\n",
    "\n",
    "s=SalaryIncrement(basic_Salary,increment,4000)\n",
    "print(\"The Increased Salary:\",s)\n"
   ]
  },
  {
   "cell_type": "code",
   "execution_count": 32,
   "id": "07d5588a",
   "metadata": {},
   "outputs": [
    {
     "name": "stdout",
     "output_type": "stream",
     "text": [
      "The value of x: 100\n",
      "The value of y: 10\n",
      "The value of x+y: 110\n"
     ]
    }
   ],
   "source": [
    "def  addition(x, y=10):    # here y is default arguments that is accepting 10 value by default.\n",
    "    print(\"The value of x:\", x)\n",
    "    print(\"The value of y:\", y)\n",
    "    print(\"The value of x+y:\",x+y)\n",
    "addition(100)\n"
   ]
  },
  {
   "cell_type": "markdown",
   "id": "1264c192",
   "metadata": {},
   "source": [
    "# 2- Function- with Positional Arguments\n"
   ]
  },
  {
   "cell_type": "code",
   "execution_count": 34,
   "id": "38c87180",
   "metadata": {},
   "outputs": [
    {
     "name": "stdout",
     "output_type": "stream",
     "text": [
      "Enter basic Salary:15000\n",
      "How many Rs. you want to increase:2000\n",
      "The Increased Salary: 19000.0\n",
      "Enter another basic Salary:5000\n",
      "How many Rs. you want to increase:1000\n",
      "The Increased Salary: 10000.0\n"
     ]
    }
   ],
   "source": [
    "def SalaryIncrement(basic,increment,allowance): \n",
    "    increasedBasic=basic+increment+allowance\n",
    "    return(increasedBasic)\n",
    "#*******************Main function***********  \n",
    "\n",
    "# Note-In positional arugment- it decides the order of the arugement based on supplied arguments. \n",
    "# First will in first and second will go in second and so on.\n",
    "\n",
    "basic_salary=float(input(\"Enter basic Salary:\"))\n",
    "increment_sal=float(input(\"How many Rs. you want to increase:\"))\n",
    "b=SalaryIncrement(increment=increment_sal,basic=basic_salary, allowance=2000)\n",
    "print(\"The Increased Salary:\",b)\n",
    "basic_salary=float(input(\"Enter another basic Salary:\"))\n",
    "increment_sal=float(input(\"How many Rs. you want to increase:\"))\n",
    "b=SalaryIncrement(basic_salary,increment_sal,4000)\n",
    "print(\"The Increased Salary:\",b)\n"
   ]
  },
  {
   "cell_type": "raw",
   "id": "9421f704",
   "metadata": {},
   "source": [
    "1.   Sender:      Actual Argument- To  pass value from the calling to definition is called actual arguments.\n",
    "2.   Receiver:    Formal Argument-The argument defined in function definition is called formal or receiver arugment.\n",
    "3.   Parameters:  All the formal arguments(receiver) are called parameters.\n"
   ]
  },
  {
   "cell_type": "code",
   "execution_count": null,
   "id": "081abe01",
   "metadata": {},
   "outputs": [],
   "source": []
  },
  {
   "cell_type": "code",
   "execution_count": null,
   "id": "06212bb4",
   "metadata": {},
   "outputs": [],
   "source": []
  }
 ],
 "metadata": {
  "kernelspec": {
   "display_name": "Python 3 (ipykernel)",
   "language": "python",
   "name": "python3"
  },
  "language_info": {
   "codemirror_mode": {
    "name": "ipython",
    "version": 3
   },
   "file_extension": ".py",
   "mimetype": "text/x-python",
   "name": "python",
   "nbconvert_exporter": "python",
   "pygments_lexer": "ipython3",
   "version": "3.11.5"
  },
  "varInspector": {
   "cols": {
    "lenName": 16,
    "lenType": 16,
    "lenVar": 40
   },
   "kernels_config": {
    "python": {
     "delete_cmd_postfix": "",
     "delete_cmd_prefix": "del ",
     "library": "var_list.py",
     "varRefreshCmd": "print(var_dic_list())"
    },
    "r": {
     "delete_cmd_postfix": ") ",
     "delete_cmd_prefix": "rm(",
     "library": "var_list.r",
     "varRefreshCmd": "cat(var_dic_list()) "
    }
   },
   "types_to_exclude": [
    "module",
    "function",
    "builtin_function_or_method",
    "instance",
    "_Feature"
   ],
   "window_display": false
  }
 },
 "nbformat": 4,
 "nbformat_minor": 5
}
