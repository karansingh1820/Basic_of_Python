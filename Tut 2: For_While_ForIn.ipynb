{
 "cells": [
  {
   "cell_type": "markdown",
   "id": "a361b57a",
   "metadata": {},
   "source": [
    "# Iteration/Looping- we can reduce the statement that is required repeatedly.\n",
    "# Loop:We can executive statement repeatedly by using loops.\n",
    "\n",
    "# In python we have 3 loops\n",
    "# 1. For Loop       \n",
    "# 2. While Loop\n",
    "# 3. For in loop or For each loop\n",
    "\n"
   ]
  },
  {
   "cell_type": "code",
   "execution_count": 5,
   "id": "a1a73e4b",
   "metadata": {},
   "outputs": [
    {
     "name": "stdout",
     "output_type": "stream",
     "text": [
      "1 2 3 4 5 6 7 8 9 10 "
     ]
    }
   ],
   "source": [
    "# Q-1 WAP to print 1 to 10 using for Loop\n",
    "\n",
    "for i in range(1,11,1):\n",
    "    print(i, end=\" \")\n"
   ]
  },
  {
   "cell_type": "code",
   "execution_count": 6,
   "id": "ad4f31e6",
   "metadata": {},
   "outputs": [
    {
     "name": "stdout",
     "output_type": "stream",
     "text": [
      "2 4 6 8 10 12 14 16 18 20 \n",
      " Program Completed\n",
      "\n",
      "\n",
      "20 18 16 14 12 10 8 6 4 2 \n",
      " Program Completed\n"
     ]
    }
   ],
   "source": [
    "# Example2: Print 2 to 20\n",
    "for i in range(2, 21, 2):\n",
    "         print(i, end= \" \")\n",
    "print(\"\\n Program Completed\")\n",
    "\n",
    "print(\"\\n\")\n",
    "\n",
    "# Example3: Print 20 to 2\n",
    "for x in range(20,1,-2):\n",
    "      print(x, end= \" \")\n",
    "print(\"\\n Program Completed\")\n"
   ]
  },
  {
   "cell_type": "code",
   "execution_count": 7,
   "id": "51646f1e",
   "metadata": {},
   "outputs": [
    {
     "name": "stdout",
     "output_type": "stream",
     "text": [
      "Even Number\t\t\t\tOdd Number\n",
      "------------\t\t\t\t-----------\n",
      "\t\t\t\t\t 1\n",
      "2\t\t\t\t\t 3\n",
      "4\t\t\t\t\t 5\n",
      "6\t\t\t\t\t 7\n",
      "8\t\t\t\t\t 9\n",
      "10\t\t\t\t\t 11\n",
      "12\t\t\t\t\t 13\n",
      "14\t\t\t\t\t 15\n",
      "16\t\t\t\t\t 17\n",
      "18\t\t\t\t\t 19\n",
      "20\t\t\t\t\t 21\n",
      "22\t\t\t\t\t 23\n",
      "24\t\t\t\t\t 25\n",
      "26\t\t\t\t\t 27\n",
      "28\t\t\t\t\t 29\n",
      "30\t\t\t\t\t 31\n",
      "32\t\t\t\t\t 33\n",
      "34\t\t\t\t\t 35\n",
      "36\t\t\t\t\t 37\n",
      "38\t\t\t\t\t 39\n",
      "40\t\t\t\t\t 41\n",
      "42\t\t\t\t\t 43\n",
      "44\t\t\t\t\t 45\n",
      "46\t\t\t\t\t 47\n",
      "48\t\t\t\t\t 49\n",
      "50\n",
      "------------\t\t\t\t-----------\n",
      "Even Sum\t\t\t\tOdd Sum\n",
      "------------\t\t\t\t-----------\n",
      "650 \t\t\t\t\t 625\n",
      "------------\t\t\t\t-----------\n"
     ]
    }
   ],
   "source": [
    "# Question- WAP to print  all even and odd numbers  between 1 to 50 and find the sum separately. \n",
    "\n",
    "# Even Number    Odd Number\n",
    "# 2                  1\n",
    "# 4                  3\n",
    "# 6                  5\n",
    "# 8                  7\n",
    "# 10                 9\n",
    "# 12                 11\n",
    "# 14                 13\n",
    "# 16                 15\n",
    "# 18                 17\n",
    "# 20                 19\n",
    "# 22                 21\n",
    "# 24                 23\n",
    "# 26                 25\n",
    "# 28                 27\n",
    "# 30                 29\n",
    "# 32                 31\n",
    "# 34                 33\n",
    "# 36                 35\n",
    "# 38                 37\n",
    "# 40                 39\n",
    "# 42                 41\n",
    "# 44                 43\n",
    "# 46                 45\n",
    "# 48                 47\n",
    "# 50                 49\n",
    "# Even Total     Odd Total\n",
    "# 650               625\n",
    "\n",
    "# Method 1:\n",
    "\n",
    "print(\"Even Number\\t\\t\\t\\tOdd Number\")\n",
    "print(\"------------\\t\\t\\t\\t-----------\")\n",
    "evensum=0\n",
    "oddsum=0\n",
    "for i in range(1,51,1):\n",
    "    if(i%2==0):\n",
    "        print(i,end=\"\")\n",
    "        evensum=evensum+i\n",
    "    else:\n",
    "        print(\"\\t\\t\\t\\t\\t\",i)\n",
    "        oddsum=oddsum+i\n",
    "print(\"\\n------------\\t\\t\\t\\t-----------\")\n",
    "print(\"Even Sum\\t\\t\\t\\tOdd Sum\")\n",
    "print(\"------------\\t\\t\\t\\t-----------\")\n",
    "print(evensum,\"\\t\\t\\t\\t\\t\", oddsum)\n",
    "print(\"------------\\t\\t\\t\\t-----------\")\n",
    "\n"
   ]
  },
  {
   "cell_type": "code",
   "execution_count": 8,
   "id": "cef74851",
   "metadata": {},
   "outputs": [
    {
     "name": "stdout",
     "output_type": "stream",
     "text": [
      "Even Number\t\t\t\tOdd Number\n",
      "------------\t\t\t\t-----------\n",
      "\t\t\t\t\t 1\n",
      "2\t\t\t\t\t 3\n",
      "4\t\t\t\t\t 5\n",
      "6\t\t\t\t\t 7\n",
      "8\t\t\t\t\t 9\n",
      "10\t\t\t\t\t 11\n",
      "12\t\t\t\t\t 13\n",
      "14\t\t\t\t\t 15\n",
      "16\t\t\t\t\t 17\n",
      "18\t\t\t\t\t 19\n",
      "20\t\t\t\t\t 21\n",
      "22\t\t\t\t\t 23\n",
      "24\t\t\t\t\t 25\n",
      "26\t\t\t\t\t 27\n",
      "28\t\t\t\t\t 29\n",
      "30\t\t\t\t\t 31\n",
      "32\t\t\t\t\t 33\n",
      "34\t\t\t\t\t 35\n",
      "36\t\t\t\t\t 37\n",
      "38\t\t\t\t\t 39\n",
      "40\t\t\t\t\t 41\n",
      "42\t\t\t\t\t 43\n",
      "44\t\t\t\t\t 45\n",
      "46\t\t\t\t\t 47\n",
      "48\t\t\t\t\t 49\n",
      "50\n",
      "------------\t\t\t\t-----------\n",
      "Even Sum\t\t\t\tOdd Sum\n",
      "------------\t\t\t\t-----------\n",
      "650 \t\t\t\t\t 625\n",
      "------------\t\t\t\t-----------\n"
     ]
    }
   ],
   "source": [
    "# Method 2:-\n",
    "print(\"Even Number\\t\\t\\t\\tOdd Number\")\n",
    "print(\"------------\\t\\t\\t\\t-----------\")\n",
    "evensum=0\n",
    "oddsum=0\n",
    "i=1\n",
    "while(i<51):\n",
    "    if(i%2==0):\n",
    "        print(i,end=\"\")\n",
    "        evensum=evensum+i\n",
    "    else:\n",
    "        print(\"\\t\\t\\t\\t\\t\",i)\n",
    "        oddsum=oddsum+i\n",
    "    i=i+1\n",
    "print(\"\\n------------\\t\\t\\t\\t-----------\")\n",
    "print(\"Even Sum\\t\\t\\t\\tOdd Sum\")\n",
    "print(\"------------\\t\\t\\t\\t-----------\")\n",
    "print(evensum,\"\\t\\t\\t\\t\\t\", oddsum)\n",
    "print(\"------------\\t\\t\\t\\t-----------\")\n"
   ]
  },
  {
   "cell_type": "code",
   "execution_count": 9,
   "id": "c5437d5d",
   "metadata": {},
   "outputs": [
    {
     "name": "stdout",
     "output_type": "stream",
     "text": [
      "Enter number for Table:5\n",
      "5 X 1 = 5\n",
      "5 X 2 = 10\n",
      "5 X 3 = 15\n",
      "5 X 4 = 20\n",
      "5 X 5 = 25\n",
      "5 X 6 = 30\n",
      "5 X 7 = 35\n",
      "5 X 8 = 40\n",
      "5 X 9 = 45\n",
      "5 X 10 = 50\n"
     ]
    }
   ],
   "source": [
    "# Question- WAP to input a number and print the table.\n",
    "\n",
    "num=int(input(\"Enter number for Table:\"))\n",
    "for i in range(1,11,1):\n",
    "    result=num*i\n",
    "    print(num,\"X\",i,\"=\",result)\n",
    "\n"
   ]
  },
  {
   "cell_type": "code",
   "execution_count": 12,
   "id": "2f975152",
   "metadata": {},
   "outputs": [
    {
     "name": "stdout",
     "output_type": "stream",
     "text": [
      "Using for\n",
      "\n",
      "\n",
      "Method1-Increment:-\n",
      "\n",
      "\n",
      "Enter Number for Factorial:5\n",
      "The Factorial: 120\n",
      "\n",
      "\n",
      "Method2-Decrement:-\n",
      "\n",
      "\n",
      "Enter Number for Factorial:5\n",
      "The Factorial: 120\n"
     ]
    }
   ],
   "source": [
    "# WAP to input a number and find the factorial\n",
    "\n",
    "print(\"Using for\")\n",
    "print(\"\\n\")\n",
    "print(\"Method1-Increment:-\")\n",
    "print(\"\\n\")\n",
    "num=int(input(\"Enter Number for Factorial:\"))\n",
    "fact=1\n",
    "for i in range(1,num+1,1):\n",
    "        fact=fact*i\n",
    "print(\"The Factorial:\",fact)\n",
    "print(\"\\n\")\n",
    "print(\"Method2-Decrement:-\")\n",
    "print(\"\\n\")\n",
    "num=int(input(\"Enter Number for Factorial:\"))\n",
    "fact=1\n",
    "for i in range(num,0,-1):\n",
    "        fact=fact*i\n",
    "print(\"The Factorial:\",fact)\n"
   ]
  },
  {
   "cell_type": "code",
   "execution_count": 14,
   "id": "4c8e89c3",
   "metadata": {},
   "outputs": [
    {
     "name": "stdout",
     "output_type": "stream",
     "text": [
      "Using While Loop\n",
      "\n",
      "\n",
      "Method1-Increment:-\n",
      "Enter Number for Factorial:6\n",
      "The Factorial: 720\n",
      "\n",
      "\n",
      "Method2-Decrement:-\n",
      "\n",
      "\n",
      "Enter Number for Factorial:6\n",
      "The Factorial: 720\n"
     ]
    }
   ],
   "source": [
    "print(\"Using While Loop\")\n",
    "print(\"\\n\")\n",
    "print(\"Method1-Increment:-\")\n",
    "num=int(input(\"Enter Number for Factorial:\"))\n",
    "fact=1\n",
    "i=1\n",
    "while(i<=num):\n",
    "    fact=fact*i\n",
    "    i=i+1\n",
    "print(\"The Factorial:\",fact)\n",
    "print(\"\\n\")\n",
    "print(\"Method2-Decrement:-\")\n",
    "print(\"\\n\")\n",
    "num=int(input(\"Enter Number for Factorial:\"))\n",
    "fact=1\n",
    "while(num>0):\n",
    "    fact=fact*num\n",
    "    num=num-1\n",
    "print(\"The Factorial:\",fact)\n",
    "\n"
   ]
  },
  {
   "cell_type": "code",
   "execution_count": 15,
   "id": "94039df3",
   "metadata": {},
   "outputs": [
    {
     "name": "stdout",
     "output_type": "stream",
     "text": [
      "Enter any number:12345\n",
      "The Sum of digits: 15\n"
     ]
    }
   ],
   "source": [
    "# Question: WAP to input a number and find the sum of digits.\n",
    "\n",
    "num=int(input(\"Enter any number:\"))\n",
    "sum=0\n",
    "rem=0\n",
    "while(num>0):\n",
    "    rem=num%10\n",
    "    sum=sum+rem\n",
    "    num=num//10\n",
    "print(\"The Sum of digits:\",sum)\n"
   ]
  },
  {
   "cell_type": "code",
   "execution_count": 16,
   "id": "6f18e3fe",
   "metadata": {},
   "outputs": [
    {
     "name": "stdout",
     "output_type": "stream",
     "text": [
      "Enter Number:45635\n",
      "The Reverese number is: 53654\n"
     ]
    }
   ],
   "source": [
    "# Question: WAP to input a number and find its reverse in digits.\n",
    "\n",
    "# input    num=45635\n",
    "# Output   Reverse=53654\n",
    "\n",
    "num=int(input(\"Enter Number:\"))\n",
    "revnum=0\n",
    "rem=0\n",
    "while(num>0):\n",
    "    rem=num%10\n",
    "    revnum=revnum*10+rem\n",
    "    num=num//10\n",
    "print(\"The Reverese number is:\",revnum)\n",
    "\n"
   ]
  },
  {
   "cell_type": "code",
   "execution_count": 18,
   "id": "7b61700d",
   "metadata": {},
   "outputs": [
    {
     "name": "stdout",
     "output_type": "stream",
     "text": [
      "Enter Number:454\n",
      "The Number is palindrome\n"
     ]
    }
   ],
   "source": [
    "# Question WAP to input a number and check whether the number is palindrome or not.\n",
    "\n",
    "# Input   num=454\n",
    "#         Reverse=454\n",
    "# if number== Reverse then the number is palindrome\n",
    "\n",
    "num=int(input(\"Enter Number:\"))\n",
    "revnum=0\n",
    "rem=0\n",
    "num2=num\n",
    "while(num>0):\n",
    "    rem=num%10\n",
    "    revnum=revnum*10+rem\n",
    "    num=num//10\n",
    "if(num2==revnum):\n",
    "    print(\"The Number is palindrome\")\n",
    "else:\n",
    "    print(\"The Number is not Plindrome\")\n",
    "    \n",
    "\n"
   ]
  },
  {
   "cell_type": "code",
   "execution_count": 19,
   "id": "b0d695e5",
   "metadata": {},
   "outputs": [
    {
     "name": "stdout",
     "output_type": "stream",
     "text": [
      "Enter Number:153\n",
      "The Number is armstrong\n"
     ]
    }
   ],
   "source": [
    "# WAP to input a number and check whether the number is armstrong or not.\n",
    "\n",
    "#      num=153\n",
    "#      armstrong= (1*1*1)+(5*5*5)+(3*3*3)= 153\n",
    "#                   1    +  125   +  27  = 153\n",
    "# if num==armstrong then number is armstrong.\n",
    "\n",
    "num=int(input(\"Enter Number:\"))\n",
    "armstrong=0\n",
    "rem=0\n",
    "num2=num\n",
    "while(num>0):\n",
    "    rem=num%10\n",
    "    armstrong=armstrong+rem**3\n",
    "    num=num//10\n",
    "if(num2==armstrong):\n",
    "    print(\"The Number is armstrong\")\n",
    "else:\n",
    "    print(\"The Number is not armstrong\")\n"
   ]
  },
  {
   "cell_type": "code",
   "execution_count": 1,
   "id": "f9523c83",
   "metadata": {},
   "outputs": [
    {
     "name": "stdout",
     "output_type": "stream",
     "text": [
      "Enter the number:4\n",
      "The number is not prime\n"
     ]
    }
   ],
   "source": [
    "# Question: WAP to input a number and check wether the number is prime or not.\n",
    "\n",
    "num=int(input(\"Enter the number:\"))\n",
    "prime=\"Yes\"             \n",
    "i=2\n",
    "while(i<num):\n",
    "    if(num%i==0):\n",
    "        prime=\"No\"\n",
    "        break\n",
    "    i=i+1\n",
    "if(prime==\"Yes\"):\n",
    "    print(\"The number is prime\")\n",
    "else:\n",
    "    print(\"The number is not prime\")\n"
   ]
  },
  {
   "cell_type": "code",
   "execution_count": 3,
   "id": "cf9fe01b",
   "metadata": {},
   "outputs": [
    {
     "name": "stdout",
     "output_type": "stream",
     "text": [
      "For Loop\n",
      "Enter the number:5\n",
      "The number is prime\n"
     ]
    }
   ],
   "source": [
    "print(\"For Loop\")\n",
    "num=int(input(\"Enter the number:\"))\n",
    "prime=\"Yes\"\n",
    "for i in range(2,num):\n",
    "     if(num%i==0):\n",
    "            prime=\"No\"\n",
    "            break\n",
    "if(prime==\"Yes\"):\n",
    "       print(\"The number is prime\");\n",
    "else:\n",
    "      print(\"The Number is not prime\")\n"
   ]
  },
  {
   "cell_type": "code",
   "execution_count": 9,
   "id": "44bcec81",
   "metadata": {},
   "outputs": [
    {
     "name": "stdout",
     "output_type": "stream",
     "text": [
      "Concise the Loop:\n",
      "Enter the number:89\n",
      "The number is prime\n"
     ]
    }
   ],
   "source": [
    "print(\"Concise the Loop:\")\n",
    "num=int(input(\"Enter the number:\"))\n",
    "prime=\"Yes\"\n",
    "for i in range(2,num//2+1):\n",
    "     if(num%i==0):\n",
    "            prime=\"No\"\n",
    "            break\n",
    "if(prime==\"Yes\"):\n",
    "       print(\"The number is prime\");\n",
    "else:\n",
    "      print(\"The Number is not prime\")\n",
    "\n"
   ]
  },
  {
   "cell_type": "code",
   "execution_count": 13,
   "id": "e496abe6",
   "metadata": {},
   "outputs": [
    {
     "name": "stdout",
     "output_type": "stream",
     "text": [
      "Using flag\n",
      "Enter the number:56\n",
      "The Number is not prime\n"
     ]
    }
   ],
   "source": [
    "print(\"Using flag\")\n",
    "\n",
    "num=int(input(\"Enter the number:\"))\n",
    "flag=0\n",
    "for i in range(2,num):\n",
    "     if(num%i==0):\n",
    "            flag=1\n",
    "            break\n",
    "if(flag==0):\n",
    "       print(\"The number is prime\");\n",
    "else:\n",
    "      print(\"The Number is not prime\")\n",
    "\n"
   ]
  },
  {
   "cell_type": "markdown",
   "id": "28e6a71e",
   "metadata": {},
   "source": [
    "For In- It is read only loop, that is used for iterating the elements of a collection(list, tuple, dict).\n"
   ]
  },
  {
   "cell_type": "code",
   "execution_count": 14,
   "id": "ef8cb351",
   "metadata": {},
   "outputs": [
    {
     "name": "stdout",
     "output_type": "stream",
     "text": [
      "List Print: [10, 20, 30, 40, 50]\n",
      "10 20 30 40 50 \n",
      " Total: 150\n"
     ]
    }
   ],
   "source": [
    "list1=[10,20,30,40,50]\n",
    "\n",
    "print(\"List Print:\",list1)\n",
    "sum=0\n",
    "for item in list1:\n",
    "    print(item,end=\" \")\n",
    "    sum=sum+item\n",
    "print(\"\\n Total:\",sum)\n"
   ]
  },
  {
   "cell_type": "code",
   "execution_count": null,
   "id": "bd90b267",
   "metadata": {},
   "outputs": [],
   "source": []
  }
 ],
 "metadata": {
  "kernelspec": {
   "display_name": "Python 3 (ipykernel)",
   "language": "python",
   "name": "python3"
  },
  "language_info": {
   "codemirror_mode": {
    "name": "ipython",
    "version": 3
   },
   "file_extension": ".py",
   "mimetype": "text/x-python",
   "name": "python",
   "nbconvert_exporter": "python",
   "pygments_lexer": "ipython3",
   "version": "3.11.5"
  }
 },
 "nbformat": 4,
 "nbformat_minor": 5
}
