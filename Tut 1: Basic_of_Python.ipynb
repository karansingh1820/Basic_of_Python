{
 "cells": [
  {
   "cell_type": "markdown",
   "id": "eed9f1da",
   "metadata": {},
   "source": [
    "# Basic of Python"
   ]
  },
  {
   "cell_type": "code",
   "execution_count": 4,
   "id": "123ef859",
   "metadata": {},
   "outputs": [
    {
     "name": "stdout",
     "output_type": "stream",
     "text": [
      "Enter first number:12\n",
      "Enter second number:12\n",
      "The Sum of two numbers: 24\n"
     ]
    }
   ],
   "source": [
    "#Question1- WAP(Write a program) to input 2 numbers and find the sum.\n",
    "\n",
    "number1=int(input(\"Enter first number:\"))\n",
    "number2=int(input(\"Enter second number:\"))\n",
    "add=number1+number2\n",
    "print(\"The Sum of two numbers:\", add)\n"
   ]
  },
  {
   "cell_type": "code",
   "execution_count": 5,
   "id": "40f5460f",
   "metadata": {},
   "outputs": [
    {
     "name": "stdout",
     "output_type": "stream",
     "text": [
      "Enter time of loan:1\n",
      "Enter rate of interest:2\n",
      "Enter time of loan:1200\n",
      "_______________Output_____________________\n",
      "The Simple Interest: 24.0\n",
      "The Net Payment: 25.0\n"
     ]
    }
   ],
   "source": [
    "#Question2- WAP to input principle amount, rate and time and calculate simple interest and net payment.\n",
    "\n",
    "\n",
    "pamt=int(input(\"Enter time of loan:\"))\n",
    "rate=int(input(\"Enter rate of interest:\"))\n",
    "time=int(input(\"Enter time of loan:\"))\n",
    "\n",
    "si=pamt*rate*time/100\n",
    "netamt=pamt+si\n",
    "\n",
    "print(\"_______________Output_____________________\")\n",
    "print(\"The Simple Interest:\",si)\n",
    "print(\"The Net Payment:\",netamt)\n"
   ]
  },
  {
   "cell_type": "code",
   "execution_count": 7,
   "id": "a7138f87",
   "metadata": {},
   "outputs": [
    {
     "name": "stdout",
     "output_type": "stream",
     "text": [
      "Enter Employee's ID:101\n",
      "Enter Employee's Name:Vikram Singh\n",
      "Enter Basic Salary:15000\n",
      "***************************Output****************************\n",
      "The Employee's ID: 101\n",
      "The Employee's Name: Vikram Singh\n",
      "The Employee's Basic Salary: 15000.0\n",
      "The Employee's HRA: 6000.0\n",
      "The Employee's TA: 4500.0\n",
      "The Employee's DA: 6000.0\n",
      "The Employee's PF: 1875.0\n",
      "The Employee's ESI: 300.0\n",
      "The Employee's Gross Salary: 31500.0\n",
      "The Employee's Net Salary: 29325.0\n"
     ]
    }
   ],
   "source": [
    "#Question3- WAP to input emp_id, emp_name and his/her basic salary and calculate following allowances-\n",
    "\n",
    "#         HRA(House rent allowance)=40% of Basic Salary\n",
    "#         TA(Travelling allowance)=30% of Basic Salary\n",
    "#         DA(Dearness allowance)=40% of Basic Salary\n",
    "#         ESI(Employee State Insurance)=2% of Basic Salary\n",
    "#         PF(Provident Fund)=12.5% of Basic Salary\n",
    "    \n",
    "#         And also calculate Gross And Net Salary.\n",
    "#         Gross= BasicSalary+HRA+TA+DA\n",
    "#         Net=Gross-Pf-ESI\n",
    "\n",
    "\n",
    "emp_id=int(input(\"Enter Employee's ID:\"))\n",
    "emp_name=input(\"Enter Employee's Name:\")\n",
    "basic_salary=float(input(\"Enter Basic Salary:\"))\n",
    "\n",
    "\n",
    "hra=basic_salary*40/100\n",
    "ta=basic_salary*30/100\n",
    "da=basic_salary*40/100\n",
    "pf=basic_salary*12.5/100\n",
    "esi=basic_salary*2/100\n",
    "\n",
    "gross_salary=basic_salary+hra+ta+da\n",
    "net_salary=gross_salary-pf-esi\n",
    "\n",
    "\n",
    "\n",
    "print(\"***************************Output****************************\")\n",
    "print(\"The Employee's ID:\", emp_id)\n",
    "print(\"The Employee's Name:\", emp_name)\n",
    "print(\"The Employee's Basic Salary:\", basic_salary)\n",
    "print(\"The Employee's HRA:\", hra)\n",
    "print(\"The Employee's TA:\", ta)\n",
    "print(\"The Employee's DA:\", da)\n",
    "print(\"The Employee's PF:\", pf)\n",
    "print(\"The Employee's ESI:\", esi)\n",
    "print(\"The Employee's Gross Salary:\", gross_salary)\n",
    "print(\"The Employee's Net Salary:\", net_salary)\n"
   ]
  },
  {
   "cell_type": "code",
   "execution_count": 8,
   "id": "139195f1",
   "metadata": {},
   "outputs": [
    {
     "name": "stdout",
     "output_type": "stream",
     "text": [
      "Enter any five digits Number:12345\n",
      "The Sum of digits: 15\n"
     ]
    }
   ],
   "source": [
    "# Question4- WAP to input a five digits number and find the sum of digits.   Ex. 49632 =24(sum of digits)\n",
    "\n",
    "sum=0\n",
    "num=int(input(\"Enter any five digits Number:\"))\n",
    "rem=num%10\n",
    "sum=sum+rem\n",
    "num=num//10\n",
    "rem=num%10\n",
    "sum=sum+rem\n",
    "num=num//10\n",
    "\n",
    "rem=num%10\n",
    "sum=sum+rem\n",
    "num=num//10\n",
    "\n",
    "rem=num%10\n",
    "sum=sum+rem\n",
    "num=num//10\n",
    "\n",
    "rem=num%10\n",
    "sum=sum+rem\n",
    "num=num//10\n",
    "\n",
    "print(\"The Sum of digits:\", sum)\n"
   ]
  },
  {
   "cell_type": "code",
   "execution_count": 10,
   "id": "7efa91a8",
   "metadata": {},
   "outputs": [
    {
     "name": "stdout",
     "output_type": "stream",
     "text": [
      "Enter a Five digits number:12345\n",
      "The Reverse Number is: 54321\n"
     ]
    }
   ],
   "source": [
    "# Question5- WAP to input a five digits number and Find the reverse in digits of entered number.\t\n",
    "#                  Ex. Input     Num=49632\n",
    "#                      Output   Reverse Digits of the Number=23694                                \n",
    "\n",
    "revnum=0\n",
    "\n",
    "num=int(input(\"Enter a Five digits number:\"))\n",
    "\n",
    "rem=num%10\n",
    "revnum=revnum*10+rem\n",
    "num=num//10\n",
    "\n",
    "rem=num%10\n",
    "revnum=revnum*10+rem\n",
    "num=num//10\n",
    "\n",
    "rem=num%10\n",
    "revnum=revnum*10+rem\n",
    "num=num//10\n",
    "\n",
    "rem=num%10\n",
    "revnum=revnum*10+rem\n",
    "num=num//10\n",
    "\n",
    "rem=num%10\n",
    "revnum=revnum*10+rem\n",
    "num=num//10\n",
    "\n",
    "print(\"The Reverse Number is:\",revnum)\n"
   ]
  },
  {
   "cell_type": "code",
   "execution_count": 11,
   "id": "47663169",
   "metadata": {},
   "outputs": [
    {
     "name": "stdout",
     "output_type": "stream",
     "text": [
      "Enter customer ID:101\n",
      "Enter customer Name:xyz\n",
      "Enter product name:maggie\n",
      "Enter prdouct Quantity:12\n",
      "Enter product Unit price:12\n",
      "Enter product discount % :1\n",
      "Enter GST % :1\n",
      "________________________________________Output____________________________\n",
      "The Customer ID        : 101\n",
      "The Customer Name      : xyz\n",
      "The Product Name       : maggie\n",
      "The Product Quantity   : 12.0\n",
      "The Product Unit price : 12.0\n",
      "The Amount without discount : 144.0\n",
      "The Discount %           : 1.0\n",
      "The Discount amount      : 1.44\n",
      "The Amount with  discount: 142.56\n",
      "The GST %                : 1.0\n",
      "The GST Amount           : 1.4256\n",
      "__________________________________________________________________________\n",
      "The NET Payment           : 143.9856\n",
      "__________________________________________________________________________\n"
     ]
    }
   ],
   "source": [
    "#Question7-WAP to input customer_id, customer_Name and purchase quantity, unit price, discount %, gst% and \n",
    "#calculate the Net payment.\n",
    "\n",
    "# 1,2 - Variable, input\n",
    "cust_id=int(input(\"Enter customer ID:\"))\n",
    "cust_name =input(\"Enter customer Name:\")\n",
    "prod_name= input(\"Enter product name:\")\n",
    "prod_qty=float(input(\"Enter prdouct Quantity:\"))\n",
    "prod_uprice=float(input(\"Enter product Unit price:\"))\n",
    "dis_per=float(input(\"Enter product discount % :\"))\n",
    "gst_per= float(input(\"Enter GST % :\"))\n",
    "\n",
    "#3- calculation\n",
    "amount1=prod_qty*prod_uprice\n",
    "dis_amt=amount1*dis_per/100             \n",
    "amount2=amount1-dis_amt\n",
    "gst_amt=amount2*gst_per/100\n",
    "final_amt=amount2+gst_amt\n",
    "\n",
    "#4- output\n",
    "print(\"________________________________________Output____________________________\")\n",
    "print(\"The Customer ID        :\", cust_id)\n",
    "print(\"The Customer Name      :\", cust_name)\n",
    "print(\"The Product Name       :\", prod_name)\n",
    "print(\"The Product Quantity   :\", prod_qty)\n",
    "print(\"The Product Unit price :\", prod_uprice)\n",
    "print(\"The Amount without discount :\", amount1)\n",
    "print(\"The Discount %           :\", dis_per)\n",
    "print(\"The Discount amount      :\", dis_amt)\n",
    "print(\"The Amount with  discount:\", amount2)\n",
    "print(\"The GST %                :\", gst_per)\n",
    "print(\"The GST Amount           :\", gst_amt)\n",
    "print(\"__________________________________________________________________________\")\n",
    "print(\"The NET Payment           :\", final_amt)\n",
    "print(\"__________________________________________________________________________\")\n"
   ]
  },
  {
   "cell_type": "code",
   "execution_count": 12,
   "id": "6574523c",
   "metadata": {},
   "outputs": [
    {
     "name": "stdout",
     "output_type": "stream",
     "text": [
      "Enter rollno:101\n",
      "Enter name:xyz\n",
      "Enter Mark1:12\n",
      "Enter Mark2:12\n",
      "Enter Mark3:12\n",
      "Enter Mark4:12\n",
      "Enter Mark5:12\n",
      "____________Output_________________\n",
      "The Student Rollno : 101\n",
      "The Student Name : xyz\n",
      "The Student total Marks : 60.0\n",
      "The Student Avgerage Marks : 12.0\n",
      "The Student Percentage Marks : 12.0\n"
     ]
    }
   ],
   "source": [
    "#Question6- WAP to input student rollno, name and his five subject marks and calculate total, per and avg marks.\n",
    "\n",
    "#1,2- Variable and Input\n",
    "rollno=int(input(\"Enter rollno:\"))\n",
    "name=input(\"Enter name:\")\n",
    "mark1=float(input(\"Enter Mark1:\"))\n",
    "mark2=float(input(\"Enter Mark2:\"))\n",
    "mark3=float(input(\"Enter Mark3:\"))\n",
    "mark4=float(input(\"Enter Mark4:\"))\n",
    "mark5=float(input(\"Enter Mark5:\"))\n",
    "\n",
    "#3- Calculation\n",
    "total=mark1+mark2+mark3+mark4+mark5\n",
    "per=total*100/500\n",
    "avg=total/5\n",
    "\n",
    "#4 -output\n",
    "print(\"____________Output_________________\")\n",
    "print(\"The Student Rollno :\", rollno)\n",
    "print(\"The Student Name :\", name)\n",
    "print(\"The Student total Marks :\", total)\n",
    "print(\"The Student Avgerage Marks :\", avg)\n",
    "print(\"The Student Percentage Marks :\", per)\n"
   ]
  },
  {
   "cell_type": "markdown",
   "id": "598812a9",
   "metadata": {},
   "source": [
    "# Selection Statements and Instructions.\n"
   ]
  },
  {
   "cell_type": "markdown",
   "id": "ab07a7c3",
   "metadata": {},
   "source": [
    "Single IF\n"
   ]
  },
  {
   "cell_type": "code",
   "execution_count": 13,
   "id": "c985d414",
   "metadata": {},
   "outputs": [
    {
     "name": "stdout",
     "output_type": "stream",
     "text": [
      "Enter Number:13\n",
      "The Number is ODD\n"
     ]
    }
   ],
   "source": [
    "#Question1- WAP to input a number and check whether the number is even or odd.\n",
    "\n",
    "num=int(input(\"Enter Number:\"))\n",
    "if(num%2==0):\n",
    "    print(\"The number is EVEN\")\n",
    "else:\n",
    "    print(\"The Number is ODD\")\n"
   ]
  },
  {
   "cell_type": "code",
   "execution_count": 17,
   "id": "b7544749",
   "metadata": {},
   "outputs": [
    {
     "name": "stdout",
     "output_type": "stream",
     "text": [
      "Enter a number: -1\n",
      "Negative number\n"
     ]
    }
   ],
   "source": [
    "#Question2- WAP to input a number and check whether the number is Negative or Positive.\n",
    "\n",
    "num = float(input(\"Enter a number: \"))\n",
    "if num > 0:\n",
    "   print(\"Positive number\")\n",
    "elif num == 0:\n",
    "   print(\"Zero\")\n",
    "else:\n",
    "   print(\"Negative number\")"
   ]
  },
  {
   "cell_type": "markdown",
   "id": "64981982",
   "metadata": {},
   "source": [
    "# Practice question\n",
    "\n",
    "Question3- WAP to input age of a person and check whether the person is eligible for voting or not.\n",
    "\n",
    "Question4- WAP to input two numbers and check both are equal or not.\n",
    "\n",
    "Question5- WAP to input two numbers and find greatest between them.\n"
   ]
  },
  {
   "cell_type": "markdown",
   "id": "0e5beb48",
   "metadata": {},
   "source": [
    " MulitpleIF\n"
   ]
  },
  {
   "cell_type": "code",
   "execution_count": 21,
   "id": "be3dedf7",
   "metadata": {},
   "outputs": [
    {
     "name": "stdout",
     "output_type": "stream",
     "text": [
      "Enter a number1: 12\n",
      "Enter a number2: 34\n",
      "Enter a number3: 67\n",
      "Enter a number4: 89\n",
      "D is greatest\n"
     ]
    }
   ],
   "source": [
    "#Question3- WAP to input 4 Numbers and find greatest among them.\n",
    "\n",
    "a = float(input(\"Enter a number1: \"))\n",
    "b = float(input(\"Enter a number2: \"))\n",
    "c = float(input(\"Enter a number3: \"))\n",
    "d = float(input(\"Enter a number4: \"))\n",
    "if(a>b and a>c and a>d):\n",
    "        print(\"A is greatest\")\n",
    "elif(b>a and b>c and b>d):\n",
    "       print(\"B is greatest\")\n",
    "elif(c>a and c>b and c>d):\n",
    "      print(\"C is greatest\")\n",
    "else:\n",
    "    print(\"D is greatest\")\n",
    "\n"
   ]
  },
  {
   "cell_type": "code",
   "execution_count": 22,
   "id": "6c153e04",
   "metadata": {},
   "outputs": [
    {
     "name": "stdout",
     "output_type": "stream",
     "text": [
      "Enter student's rollno : 1\n",
      "Enter student's name : gh\n",
      "Enter marks of maths : 12\n",
      "Enter marks of english : 45\n",
      "Enter marks of physics : 67\n",
      "Enter marks of chemistry :45\n",
      "Enter marks of computer : 67\n",
      "*************************Output****************************\n",
      "The Student's Roll No :  1\n",
      "The Student's Name :  gh\n",
      "The Student's Total Marks :  236.0\n",
      "The Student's Percentage Marks : 47.2\n",
      "The Student's Average Marks :  47.2\n",
      "The Student's Grade : D\n"
     ]
    }
   ],
   "source": [
    "#WAP to input student_rollno, name and his/her five subject marks and calculate total, per and average marks.\n",
    "\n",
    "# And also find the grade on the basis of following criteria-\n",
    "\n",
    "# If percentage Marks >= 90               Then Grade  \"A+\"\n",
    "# otherwise IF Percentage Marks>=80       Then Grade  \"A\"\n",
    "# otherwise IF Percentage Marks>=70       Then Grade  \"B+\"\n",
    "# otherwise IF Percentage Marks>=60       Then Grade  \"B\"\n",
    "# otherwise IF Percentage Marks>=50       Then Grade  \"C\"\n",
    "# otherwise IF Percentage Marks>=40       Then Grade  \"D\"\n",
    "# otherwise IF Percentage Marks>=33       Then Grade  \"E\"\n",
    "# otherwise IF Percentage Marks<33        Then Grade  \"Fail\"\n",
    "\n",
    "# Method1:-\n",
    "    \n",
    "rollno=int(input(\"Enter student's rollno : \"))\n",
    "name=input(\"Enter student's name : \")\n",
    "maths=float(input(\"Enter marks of maths : \"))\n",
    "english=float(input(\"Enter marks of english : \"))\n",
    "physics=float(input(\"Enter marks of physics : \"))\n",
    "chemistry=float(input(\"Enter marks of chemistry :\"))\n",
    "computer=float(input(\"Enter marks of computer : \"))\n",
    "\n",
    "total=maths+english+physics+chemistry+computer\n",
    "percentage=total*100/500\n",
    "average=total/5\n",
    "\n",
    "\n",
    "print(\"*************************Output****************************\")\n",
    "print(\"The Student's Roll No : \", rollno)\n",
    "print(\"The Student's Name : \",name)\n",
    "print(\"The Student's Total Marks : \",total)\n",
    "print(\"The Student's Percentage Marks :\", percentage)\n",
    "print(\"The Student's Average Marks : \", average)\n",
    "\n",
    "if(percentage>=90):\n",
    "    print(\"The Student's Grade : A+\")\n",
    "elif(percentage>=80):\n",
    "    print(\"The Student's Grade : A\")\n",
    "elif(percentage>=70):\n",
    "    print(\"The Student's Grade : B+\")\n",
    "elif(percentage>=60):\n",
    "    print(\"The Student's Grade : B\")\n",
    "elif(percentage>=50):\n",
    "    print(\"The Student's Grade : C\")    \n",
    "elif(percentage>=40):\n",
    "    print(\"The Student's Grade : D\")\n",
    "elif(percentage>=33):\n",
    "    print(\"The Student's Grade : E\")\n",
    "else:\n",
    "    print(\"The Student's Grade: Fail\")\n",
    "\n"
   ]
  },
  {
   "cell_type": "markdown",
   "id": "498c29d4",
   "metadata": {},
   "source": [
    "Method 2:-"
   ]
  },
  {
   "cell_type": "code",
   "execution_count": 23,
   "id": "ba9285f0",
   "metadata": {},
   "outputs": [
    {
     "name": "stdout",
     "output_type": "stream",
     "text": [
      "Enter student's rollno : 101\n",
      "Enter student's name : gh\n",
      "Enter marks of maths : 89\n",
      "Enter marks of english : 90\n",
      "Enter marks of physics : 67\n",
      "Enter marks of chemistry :87\n",
      "Enter marks of computer : 50\n",
      "*************************Output****************************\n",
      "The Student's Roll No :  101\n",
      "The Student's Name :  gh\n",
      "The Student's Total Marks :  383.0\n",
      "The Student's Percentage Marks : 76.6\n",
      "The Student's Average Marks :  76.6\n",
      "The Student's Grade is      : B\n"
     ]
    }
   ],
   "source": [
    "rollno=int(input(\"Enter student's rollno : \"))\n",
    "name=input(\"Enter student's name : \")\n",
    "maths=float(input(\"Enter marks of maths : \"))\n",
    "english=float(input(\"Enter marks of english : \"))\n",
    "physics=float(input(\"Enter marks of physics : \"))\n",
    "chemistry=float(input(\"Enter marks of chemistry :\"))\n",
    "computer=float(input(\"Enter marks of computer : \"))\n",
    "\n",
    "\n",
    "total=maths+english+physics+chemistry+computer\n",
    "percentage=total*100/500\n",
    "average=total/5\n",
    "grade=\"\"\n",
    "\n",
    "if(percentage>=90):\n",
    "   grade=\"A+\"\t\n",
    "elif(percentage>=80):\n",
    "    grade=\"A\"\t\n",
    "elif(percentage>=70):\n",
    "    grade=\"B\"\n",
    "elif(percentage>=60):\n",
    "    grade=\"B+\"\t\n",
    "elif(percentage>=50):\n",
    "    grade=\"C\"    \n",
    "elif(percentage>=40):\n",
    "    grade=\"D\"\t\n",
    "elif(percentage>=33):\n",
    "    grade=\"E\"\n",
    "else:\n",
    "    grade=\"F\"\n",
    "\n",
    "\n",
    "\n",
    "print(\"*************************Output****************************\")\n",
    "print(\"The Student's Roll No : \", rollno)\n",
    "print(\"The Student's Name : \",name)\n",
    "print(\"The Student's Total Marks : \",total)\n",
    "print(\"The Student's Percentage Marks :\", percentage)\n",
    "print(\"The Student's Average Marks : \", average)\n",
    "print(\"The Student's Grade is      :\", grade)\n"
   ]
  },
  {
   "cell_type": "code",
   "execution_count": 25,
   "id": "05e6b4fd",
   "metadata": {},
   "outputs": [
    {
     "name": "stdout",
     "output_type": "stream",
     "text": [
      "Enter employee's ID:101\n",
      "Enter employee's Name:Xyz\n",
      "Enter employee's Basic Salary:12000\n",
      "_________________Output________________\n",
      "The employee's ID: 101\n",
      "The employee's Name: Xyz\n",
      "The employee's Basic Salary: 12000.0\n",
      "The employee's HRA: 1200.0\n",
      "The employee's TA: 1200.0\n",
      "The employee's DA: 1200.0\n",
      "The employee's PF: 1500.0\n",
      "The employee's ESI: 240.0\n",
      "---------------------Salary Details------\n",
      "The employee's Gross Salary : 15600.0\n",
      "The employee's NET Salary : 13860.0\n",
      "---------------------End of Program------\n"
     ]
    }
   ],
   "source": [
    "#  Question3 -WAP to input emp_id, name and his basic salary and calculate allowance on the\n",
    "\n",
    "# basis of following criteria\n",
    "\n",
    "# if basic_salary>=100000 then\n",
    "   # HRA=ta=da=40% of Basic Salary\n",
    "   # Pf= 18% of basic Salary\n",
    "   # ESI=0% of basic salary\n",
    "#otherwise if basic_salary>=50000 then\n",
    "   # HRA=ta=da=30% of Basic Salary\n",
    "   # Pf= 15% of basic Salary\n",
    "   # ESI=0% of basic salary\n",
    "#otherwise if basic_salary>=30000 then\n",
    "   # HRA=ta=da=20% of Basic Salary\n",
    "   # Pf= 12.5% of basic Salary\n",
    "   # ESI=0% of basic salary\n",
    "#otherwise if basic_salary<30000 then\n",
    "   # HRA=ta=da=10% of Basic Salary\n",
    "   # Pf= 10% of basic Salary\n",
    "   # ESI=2% of basic salary\n",
    "#And also calculate gross and net salary\n",
    "    #Gross= Basic+HRA+Ta+Da\n",
    "    #Net=Gross-Pf-esi\n",
    "\n",
    "    \n",
    "#1,2-Variable and Input\n",
    "\n",
    "emp_id=int(input(\"Enter employee's ID:\"))\n",
    "emp_name=input(\"Enter employee's Name:\")\n",
    "emp_basic=float(input(\"Enter employee's Basic Salary:\"))\n",
    "           \n",
    "#3. Calculation\n",
    "if(emp_basic>=100000):\n",
    "    #ta=da=hra=emp_basic*40/100\n",
    "    hra=emp_basic*40/100\n",
    "    ta=emp_basic*40/100\n",
    "    da=emp_basic*40/100\n",
    "    pf=emp_basic*18/100\n",
    "    esi=emp_basic*0/100\n",
    "elif(emp_basic>=50000):\n",
    "    hra=emp_basic*30/100\n",
    "    ta=emp_basic*30/100\n",
    "    da=emp_basic*30/100\n",
    "    pf=emp_basic*15/100\n",
    "    esi=emp_basic*0/100\n",
    "elif(emp_basic>=30000):\n",
    "    hra=emp_basic*20/100\n",
    "    ta=emp_basic*20/100\n",
    "    da=emp_basic*20/100\n",
    "    pf=emp_basic*12.5/100\n",
    "    esi=emp_basic*0/100\n",
    "else:\n",
    "    hra=emp_basic*10/100\n",
    "    ta=emp_basic*10/100\n",
    "    da=emp_basic*10/100\n",
    "    pf=emp_basic*12.5/100\n",
    "    esi=emp_basic*2/100\n",
    "\n",
    "gross=emp_basic+hra+ta+da\n",
    "net=gross-pf-esi\n",
    "#4. Output\n",
    "print(\"_________________Output________________\")\n",
    "print(\"The employee's ID:\", emp_id)\n",
    "print(\"The employee's Name:\", emp_name)\n",
    "print(\"The employee's Basic Salary:\",emp_basic)\n",
    "print(\"The employee's HRA:\",hra)\n",
    "print(\"The employee's TA:\",ta)\n",
    "print(\"The employee's DA:\",da)\n",
    "print(\"The employee's PF:\",pf)\n",
    "print(\"The employee's ESI:\",esi)\n",
    "print(\"---------------------Salary Details------\")\n",
    "print(\"The employee's Gross Salary :\", gross)\n",
    "print(\"The employee's NET Salary :\", net)\n",
    "print(\"---------------------End of Program------\")\n"
   ]
  },
  {
   "cell_type": "markdown",
   "id": "1d7b3cc0",
   "metadata": {},
   "source": [
    "Nested IF\n"
   ]
  },
  {
   "cell_type": "code",
   "execution_count": 27,
   "id": "dffaf6c6",
   "metadata": {},
   "outputs": [
    {
     "name": "stdout",
     "output_type": "stream",
     "text": [
      "Enter first number:34\n",
      "Enter second number:67\n",
      "Enter third number:1\n",
      "Num2 is greatest\n"
     ]
    }
   ],
   "source": [
    "# WAP to input 3 numbers and find greatest among them\n",
    "num1=int(input(\"Enter first number:\"))\n",
    "num2=int(input(\"Enter second number:\"))\n",
    "num3=int(input(\"Enter third number:\"))\n",
    "if(num1>num2):\n",
    "    if(num1>num3):\n",
    "        print(\"Num1 is greatest\")\n",
    "    else:\n",
    "        print(\"Num3 is greatest\")\n",
    "else:\n",
    "    if(num2>num3):\n",
    "        print(\"Num2 is greatest\")\n",
    "    else:\n",
    "        print(\"Num3 is greatest\")\n"
   ]
  },
  {
   "cell_type": "code",
   "execution_count": 1,
   "id": "ee2b02ef",
   "metadata": {},
   "outputs": [
    {
     "name": "stdout",
     "output_type": "stream",
     "text": [
      "Enter gender of a person(M/F):m\n",
      "Enter age of the person:23\n",
      "Enter purchase amount:12\n",
      "****************Output**********************************\n",
      "The Gender of the person: m\n",
      "The Age of the person: 23.0\n",
      "The purchase amount: 12.0\n",
      "The discount : 25 %\n",
      "The discount amount: 3.0\n",
      "The Net payment amount: 9.0\n"
     ]
    }
   ],
   "source": [
    "#WAP to input gender of person(Male/Female), his/her age and purchase amount\n",
    "# and find discount %, discount amount and net payment amount on the basis of following criteria\n",
    "\n",
    "     # if gender is \"Male\"  and\n",
    "     # his age>=60 then discount is 30% of purchase amount\n",
    "     #otherwise his age<60 then discount is 25 % of purchase amount \n",
    "   \n",
    "    # otherwise if gender “Female” and\n",
    "    #       her age>=60 then discount is 45% \n",
    "    #      otherwise age<60 the discount is 30%\n",
    "\n",
    "\n",
    "#     Method 1:-\n",
    "\n",
    "gender=input(\"Enter gender of a person(M/F):\")\n",
    "age=float(input(\"Enter age of the person:\"))\n",
    "puramt=float(input(\"Enter purchase amount:\"))\n",
    "disper=0\n",
    "if(gender ==\"Male\" or gender==\"male\" or gender==\"M\" or gender==\"m\"):\n",
    "    if(age>=60):\n",
    "        disper=30\n",
    "    else:\n",
    "        disper=25\n",
    "elif(gender==\"Female\" or gender==\"female\" or gender==\"F\" or gender==\"f\"):\n",
    "    if(age>=60):\n",
    "        disper=45\n",
    "    else:\n",
    "        disper=30\n",
    "else:\n",
    "    print(\"Incorrect gender selection, please enter M/F\")\n",
    "    exit(0)     #terminate the program exeuction and exit \n",
    "disamt=puramt*disper/100\n",
    "netamt=puramt-disamt\n",
    "print(\"****************Output**********************************\")\n",
    "print(\"The Gender of the person:\",gender)\n",
    "print(\"The Age of the person:\",age)\n",
    "print(\"The purchase amount:\",puramt)\n",
    "print(\"The discount :\",disper,\"%\")\n",
    "print(\"The discount amount:\",disamt)\n",
    "print(\"The Net payment amount:\",netamt)\n"
   ]
  },
  {
   "cell_type": "markdown",
   "id": "f10ca0b6",
   "metadata": {},
   "source": [
    "Method 2:-"
   ]
  },
  {
   "cell_type": "code",
   "execution_count": 4,
   "id": "d7920b9b",
   "metadata": {},
   "outputs": [
    {
     "name": "stdout",
     "output_type": "stream",
     "text": [
      "Enter gender of a person(M/F):male\n",
      "Enter age of the person:34\n",
      "Enter purchase amount:67000\n",
      "****************Output**********************************\n",
      "The Gender of the person: male\n",
      "The Age of the person: 34.0\n",
      "The purchase amount: 67000.0\n",
      "The discount : 25 %\n",
      "The discount amount: 16750.0\n",
      "The Net payment amount: 50250.0\n"
     ]
    }
   ],
   "source": [
    "gender=input(\"Enter gender of a person(M/F):\")\n",
    "\n",
    "if(gender==\"male\"or gender ==\"Male\" or gender==\"MALE\" or gender==\"M\" or gender==\"m\" or gender==\"f\" or gender ==\"F\" or gender==\"female\" or gender==\"FEMALE\"or gender==\"Female\"):\n",
    "    \n",
    "    age=float(input(\"Enter age of the person:\"))\n",
    "    puramt=float(input(\"Enter purchase amount:\"))\n",
    "    disper=0\n",
    "    \n",
    "    if(gender==\"male\"or gender ==\"Male\" or gender==\"MALE\" or gender==\"M\" or gender==\"m\"):\n",
    "        if(age>=60):\n",
    "            disper=30\n",
    "        else:\n",
    "            disper=25\n",
    "    else:\n",
    "        if(age>=60):\n",
    "            disper=45\n",
    "        else:\n",
    "            disper=30\n",
    "    disamt=puramt*disper/100\n",
    "    netamt=puramt-disamt\n",
    "    \n",
    "    print(\"****************Output**********************************\")\n",
    "    print(\"The Gender of the person:\",gender)\n",
    "    print(\"The Age of the person:\",age)\n",
    "    print(\"The purchase amount:\",puramt)\n",
    "    print(\"The discount :\",disper,\"%\")\n",
    "    print(\"The discount amount:\",disamt)\n",
    "    print(\"The Net payment amount:\",netamt)\n",
    "    \n",
    "    \n",
    "else:\n",
    "    print(\"Incorect gender selection, please input M/F\")\n",
    "    \n"
   ]
  },
  {
   "cell_type": "code",
   "execution_count": 1,
   "id": "07f98cd8",
   "metadata": {},
   "outputs": [
    {
     "name": "stdout",
     "output_type": "stream",
     "text": [
      "__________________________Menu________________________\n",
      "1. Additon\n",
      "2. Subtraction\n",
      "3. Multiplcation\n",
      "4. Division\n",
      "5. Exit\n",
      "_______________________________________________________\n",
      "Enter your choice from above menu:4\n",
      "Enter two numbers for Division:\n",
      "12\n",
      "45\n",
      "The Division of two Numbers: 0.26666666666666666\n"
     ]
    }
   ],
   "source": [
    "# Write a menu  driven program to perfrom arithmetic operation like Addition, subtraction multiplecation etc.\n",
    "\n",
    "\n",
    "print(\"__________________________Menu________________________\")\n",
    "print(\"1. Additon\")\n",
    "print(\"2. Subtraction\")\n",
    "print(\"3. Multiplcation\")\n",
    "print(\"4. Division\")\n",
    "print(\"5. Exit\")\n",
    "print(\"_______________________________________________________\")\n",
    "\n",
    "choice=int(input(\"Enter your choice from above menu:\"))\n",
    "if(choice==1):\n",
    "      print(\"Enter two numbers for Addition:\")\n",
    "      a=int(input(\"\"))\n",
    "      b=int(input(\"\"))\n",
    "      result=a+b\n",
    "      print(\"The Addition of two Numbers:\", result)\n",
    "elif(choice==2):\n",
    "      print(\"Enter two numbers for Subtraction:\")\n",
    "      a=int(input(\"\"))\n",
    "      b=int(input(\"\"))\n",
    "      result=a-b\n",
    "      print(\"The Subtraction of two Numbers:\", result)\n",
    "elif(choice==3):\n",
    "      print(\"Enter two numbers for Multiplication:\")\n",
    "      a=int(input(\"\"))\n",
    "      b=int(input(\"\"))\n",
    "      result=a*b\n",
    "      print(\"The Multiplication of two Numbers:\", result)\n",
    "elif(choice==4):\n",
    "      print(\"Enter two numbers for Division:\")\n",
    "      a=int(input(\"\"))\n",
    "      b=int(input(\"\"))\n",
    "      result=a/b\n",
    "      print(\"The Division of two Numbers:\", result)\n",
    "elif(choice==5):\n",
    "     exit(0)\n",
    "else:\n",
    "     print(\"Wrong Choice, please select between 1 to 5\")\n"
   ]
  },
  {
   "cell_type": "code",
   "execution_count": 3,
   "id": "b273e0d0",
   "metadata": {},
   "outputs": [
    {
     "name": "stdout",
     "output_type": "stream",
     "text": [
      "Enter any charactera\n",
      "Entered character is vowel\n"
     ]
    }
   ],
   "source": [
    "# Write a program to check a character is vowel or not.\n",
    "\n",
    "ch=input(\"Enter any character\")\n",
    "vow=\"aeiouAEIOU\"       \n",
    "if (ch in vow):   \n",
    "     print(\"Entered character is vowel\")\n",
    "else:\n",
    "     print(\"Entered character is not vowel\")\n"
   ]
  },
  {
   "cell_type": "code",
   "execution_count": null,
   "id": "d3914a28",
   "metadata": {},
   "outputs": [],
   "source": []
  }
 ],
 "metadata": {
  "kernelspec": {
   "display_name": "Python 3 (ipykernel)",
   "language": "python",
   "name": "python3"
  },
  "language_info": {
   "codemirror_mode": {
    "name": "ipython",
    "version": 3
   },
   "file_extension": ".py",
   "mimetype": "text/x-python",
   "name": "python",
   "nbconvert_exporter": "python",
   "pygments_lexer": "ipython3",
   "version": "3.11.5"
  }
 },
 "nbformat": 4,
 "nbformat_minor": 5
}
