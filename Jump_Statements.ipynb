{
 "cells": [
  {
   "cell_type": "markdown",
   "id": "c7f87a2c",
   "metadata": {},
   "source": [
    "# Jump Statements\n",
    "1. break: It is used for terminating a loop execution.\n",
    "2. continue: It is used for skipping the loop iteration.\n",
    "3. pass: It is to pass the statement.It is used to bypass the insturction(if, loops)/function/Class\n",
    "\n"
   ]
  },
  {
   "cell_type": "code",
   "execution_count": 2,
   "id": "4d1a1a46",
   "metadata": {},
   "outputs": [
    {
     "name": "stdout",
     "output_type": "stream",
     "text": [
      "1\n",
      "2\n",
      "3\n",
      "4\n",
      "5\n"
     ]
    }
   ],
   "source": [
    "for  i in range(1, 11,1):\n",
    "    print(i)\n",
    "    if(i==5):\n",
    "        break\n"
   ]
  },
  {
   "cell_type": "code",
   "execution_count": 3,
   "id": "b5e55bba",
   "metadata": {},
   "outputs": [
    {
     "name": "stdout",
     "output_type": "stream",
     "text": [
      "1\n",
      "2\n",
      "3\n",
      "4\n",
      "6\n",
      "7\n",
      "8\n",
      "9\n",
      "10\n"
     ]
    }
   ],
   "source": [
    "for  i in range(1, 11,1):\n",
    "    if(i==5):\n",
    "        continue\n",
    "    print(i)\n"
   ]
  },
  {
   "cell_type": "code",
   "execution_count": 5,
   "id": "9cdea590",
   "metadata": {},
   "outputs": [
    {
     "name": "stdout",
     "output_type": "stream",
     "text": [
      "\n",
      " The Even sum= 110\n",
      "\n",
      " The Odd sum= 20\n"
     ]
    }
   ],
   "source": [
    "# Question Find the sum of Odd number and even number separately between 1 to 20.\n",
    "\n",
    "evensum=0\n",
    "oddsum=0\n",
    "for i in range(1, 21,1):\n",
    " if(i%2==0):\n",
    "       evensum=evensum+i\n",
    "else:\n",
    "      oddsum=oddsum+i\n",
    "\n",
    "print(\"\\n The Even sum=\", evensum)\n",
    "print(\"\\n The Odd sum=\", oddsum)\n"
   ]
  },
  {
   "cell_type": "code",
   "execution_count": 7,
   "id": "29b16fa6",
   "metadata": {},
   "outputs": [
    {
     "name": "stdout",
     "output_type": "stream",
     "text": [
      "\n",
      " The Odd sum= 100\n"
     ]
    }
   ],
   "source": [
    "# Question: Find the sum of Odd numbers  between 1 to 20.\n",
    "\n",
    "oddsum=0\n",
    "for i in range(1, 21,1):\n",
    "    if(i%2==0):\n",
    "        pass\n",
    "    else:\n",
    "        oddsum=oddsum+i\n",
    "print(\"\\n The Odd sum=\", oddsum)\n"
   ]
  },
  {
   "cell_type": "code",
   "execution_count": null,
   "id": "2eeddb68",
   "metadata": {},
   "outputs": [],
   "source": []
  }
 ],
 "metadata": {
  "kernelspec": {
   "display_name": "Python 3 (ipykernel)",
   "language": "python",
   "name": "python3"
  },
  "language_info": {
   "codemirror_mode": {
    "name": "ipython",
    "version": 3
   },
   "file_extension": ".py",
   "mimetype": "text/x-python",
   "name": "python",
   "nbconvert_exporter": "python",
   "pygments_lexer": "ipython3",
   "version": "3.11.5"
  }
 },
 "nbformat": 4,
 "nbformat_minor": 5
}
